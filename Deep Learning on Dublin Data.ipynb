{
  "nbformat": 4,
  "nbformat_minor": 0,
  "metadata": {
    "colab": {
      "name": "Copy of Imole DAV project",
      "provenance": [],
      "collapsed_sections": [],
      "include_colab_link": true
    },
    "kernelspec": {
      "display_name": "Python 3",
      "name": "python3"
    },
    "language_info": {
      "name": "python"
    }
  },
  "cells": [
    {
      "cell_type": "markdown",
      "metadata": {
        "id": "view-in-github",
        "colab_type": "text"
      },
      "source": [
        "<a href=\"https://colab.research.google.com/github/Asiwaju887/Data-Analytics/blob/main/Deep%20Learning%20on%20Dublin%20Data.ipynb\" target=\"_parent\"><img src=\"https://colab.research.google.com/assets/colab-badge.svg\" alt=\"Open In Colab\"/></a>"
      ]
    },
    {
      "cell_type": "code",
      "metadata": {
        "colab": {
          "base_uri": "https://localhost:8080/"
        },
        "id": "rfKrqjN2tNEH",
        "outputId": "7c368219-79cd-42d5-d896-8931819ec6fe"
      },
      "source": [
        "# Import Libraries\n",
        "\n",
        "from pandas import DataFrame\n",
        "from pandas import Series\n",
        "from pandas import concat\n",
        "from pandas import read_csv\n",
        "from pandas import datetime\n",
        "from sklearn.metrics import mean_squared_error\n",
        "from sklearn.metrics import r2_score\n",
        "from sklearn.preprocessing import MinMaxScaler\n",
        "from keras.models import Sequential\n",
        "from keras.layers import Dense\n",
        "from keras.layers import LSTM\n",
        "from keras.layers import GRU\n",
        "from math import sqrt\n",
        "from matplotlib import pyplot\n",
        "import numpy\n",
        "\n",
        "from keras.callbacks import EarlyStopping\n",
        "from keras.callbacks import ModelCheckpoint\n",
        "from keras.models import load_model\n",
        "\n"
      ],
      "execution_count": 1,
      "outputs": [
        {
          "output_type": "stream",
          "text": [
            "/usr/local/lib/python3.7/dist-packages/ipykernel_launcher.py:7: FutureWarning: The pandas.datetime class is deprecated and will be removed from pandas in a future version. Import from datetime module instead.\n",
            "  import sys\n"
          ],
          "name": "stderr"
        }
      ]
    },
    {
      "cell_type": "code",
      "metadata": {
        "colab": {
          "base_uri": "https://localhost:8080/"
        },
        "id": "gR0etU3lQP1_",
        "outputId": "db61773a-fbe2-4330-82b8-3d02afc387a6"
      },
      "source": [
        "from google.colab import drive\n",
        "drive.mount('/content/drive', force_remount=False)"
      ],
      "execution_count": 2,
      "outputs": [
        {
          "output_type": "stream",
          "text": [
            "Mounted at /content/drive\n"
          ],
          "name": "stdout"
        }
      ]
    },
    {
      "cell_type": "markdown",
      "metadata": {
        "id": "7KrEzqBih35G"
      },
      "source": [
        "### **LSTM section**"
      ]
    },
    {
      "cell_type": "code",
      "metadata": {
        "id": "kwk_f4RDryFA"
      },
      "source": [
        "# date-time parsing function for loading the dataset\n",
        "def parser(x):\n",
        "\treturn datetime.strptime('190'+x, '%Y-%m')\n",
        "\n",
        "# frame a sequence as a supervised learning problem\n",
        "def timeseries_to_supervised(data, lag=1):\n",
        "\tdf = DataFrame(data)\n",
        "\tcolumns = [df.shift(i) for i in range(1, lag+1)]\n",
        "\tcolumns.append(df)\n",
        "\tdf = concat(columns, axis=1)\n",
        "\tdf.fillna(0, inplace=True)\n",
        "\treturn df\n",
        "\n",
        "# create a differenced series\n",
        "def difference(dataset, interval=1):\n",
        "\tdiff = list()\n",
        "\tfor i in range(interval, len(dataset)):\n",
        "\t\tvalue = dataset[i] - dataset[i - interval]\n",
        "\t\tdiff.append(value)\n",
        "\treturn Series(diff)\n",
        "\n",
        "# invert differenced value\n",
        "def inverse_difference(history, yhat, interval=1):\n",
        "\treturn yhat + history[-interval]\n",
        "\n",
        "# scale train and test data to [-1, 1]\n",
        "def scale(train, test):\n",
        "\t# fit scaler\n",
        "\tscaler = MinMaxScaler(feature_range=(-1, 1))\n",
        "\tscaler = scaler.fit(train)\n",
        "\t# transform train\n",
        "\ttrain = train.reshape(train.shape[0], train.shape[1])\n",
        "\ttrain_scaled = scaler.transform(train)\n",
        "\t# transform test\n",
        "\ttest = test.reshape(test.shape[0], test.shape[1])\n",
        "\ttest_scaled = scaler.transform(test)\n",
        "\treturn scaler, train_scaled, test_scaled\n",
        "\n",
        "# inverse scaling for a forecasted value\n",
        "def invert_scale(scaler, X, value):\n",
        "\tnew_row = [x for x in X] + [value]\n",
        "\tarray = numpy.array(new_row)\n",
        "\tarray = array.reshape(1, len(array))\n",
        "\tinverted = scaler.inverse_transform(array)\n",
        "\treturn inverted[0, -1]\n",
        "\n",
        "# fit an LSTM network to training data\n",
        "def fit_lstm(train, batch_size, nb_epoch, neurons):\n",
        "  X, y = train[:, 0:-1], train[:, -1]\n",
        "  X = X.reshape(X.shape[0], 1, X.shape[1])\n",
        "  \n",
        "  model = Sequential()\n",
        "  model.add(LSTM(neurons, batch_input_shape=(batch_size, X.shape[1], X.shape[2]), stateful=True))\n",
        "  model.add(Dense(1))\n",
        "  model.compile(loss='mean_squared_error', optimizer='adam')\n",
        "\n",
        "  # simple early stopping\n",
        "  es = EarlyStopping(monitor='val_loss', mode='min', patience=10, verbose= 1)\n",
        "  mc = ModelCheckpoint('best_model.h5', monitor='val_loss', mode='min', verbose=1)\n",
        "  \n",
        "  model.fit(X, y, epochs=nb_epoch, batch_size=batch_size, verbose=1, shuffle=False, callbacks=[es, mc], validation_split=0.3)\n",
        "  saved_model = load_model('best_model.h5')\n",
        "  \n",
        "  return saved_model\n",
        "  \n",
        "# make a one-step forecast\n",
        "def forecast_lstm(model, batch_size, X):\n",
        "\tX = X.reshape(1, 1, len(X))\n",
        "\tyhat = model.predict(X, batch_size=batch_size)\n",
        "\treturn yhat[0,0]\n",
        "\n"
      ],
      "execution_count": 4,
      "outputs": []
    },
    {
      "cell_type": "code",
      "metadata": {
        "colab": {
          "base_uri": "https://localhost:8080/",
          "height": 130
        },
        "id": "s-izUUz7ws2e",
        "outputId": "ebaf1c07-58e3-47cd-ad6d-9801bca4f401"
      },
      "source": [
        "\n",
        "# load dataset\n",
        "cwd = read_csv('/content/drive/MyDrive/Ireland_DAV_Data.csv', low_memory=False)\n",
        "\n",
        "series = cwd['temp']"
      ],
      "execution_count": 5,
      "outputs": [
        {
          "output_type": "error",
          "ename": "SyntaxError",
          "evalue": "ignored",
          "traceback": [
            "\u001b[0;36m  File \u001b[0;32m\"<ipython-input-5-6d2632ca9e60>\"\u001b[0;36m, line \u001b[0;32m5\u001b[0m\n\u001b[0;31m    £series = cwd['temp']\u001b[0m\n\u001b[0m          ^\u001b[0m\n\u001b[0;31mSyntaxError\u001b[0m\u001b[0;31m:\u001b[0m invalid character in identifier\n"
          ]
        }
      ]
    },
    {
      "cell_type": "code",
      "metadata": {
        "id": "wVlxbygEtASA"
      },
      "source": [
        "\n",
        "\n",
        "\n",
        "# transform data to be stationary\n",
        "raw_values = series.values\n",
        "diff_values = difference(raw_values, 1)\n",
        "\n",
        "# transform data to be supervised learning\n",
        "supervised = timeseries_to_supervised(diff_values, 1)\n",
        "supervised_values = supervised.values\n",
        "\n",
        "# Split data into training (80%) and test (20%)\n",
        "nrow = round(0.7*series.shape[0])\n",
        "train, test = supervised_values[0:nrow], supervised_values[(nrow+1):]\n",
        "\n",
        "\n",
        "# transform the scale of the data\n",
        "scaler, train_scaled, test_scaled = scale(train, test)\n"
      ],
      "execution_count": null,
      "outputs": []
    },
    {
      "cell_type": "code",
      "metadata": {
        "id": "8Ed5FsFXxvh9"
      },
      "source": [
        "\n",
        "# fit the model\n",
        "lstm_model = fit_lstm(train_scaled, 1, 1, 1)\n",
        "# forecast the entire training dataset to build up state for forecasting\n",
        "train_reshaped = train_scaled[:, 0].reshape(len(train_scaled), 1, 1)\n",
        "lstm_model.predict(train_reshaped, batch_size=1)"
      ],
      "execution_count": null,
      "outputs": []
    },
    {
      "cell_type": "code",
      "metadata": {
        "id": "4DsmEsUtxspT"
      },
      "source": [
        "# evaluate the model\n",
        "X, y = train_scaled[:, 0:-1], train_scaled[:, -1]\n",
        "trainX = X.reshape(X.shape[0], 1, X.shape[1])\n",
        "trainy = y \n",
        "\n",
        "train_pred = lstm_model.predict(trainX, batch_size=1)\n",
        "train_mse = mean_squared_error(trainy, train_pred)\n",
        "\n",
        "X, y = test_scaled[:, 0:-1], test_scaled[:, -1]\n",
        "testX = X.reshape(X.shape[0], 1, X.shape[1])\n",
        "testy = y\n",
        "\n",
        "test_pred = lstm_model.predict(testX, batch_size=1)\n",
        "test_mse = mean_squared_error(testy, test_pred)\n",
        "\n",
        "print('Train: %.3f, Test: %.3f' % (train_mse, test_mse))"
      ],
      "execution_count": null,
      "outputs": []
    },
    {
      "cell_type": "code",
      "metadata": {
        "id": "WA6ybbdkxhN6"
      },
      "source": [
        "\n",
        "\n",
        "# walk-forward validation on the test data\n",
        "predictions = list()\n",
        "for i in range(len(test_scaled)):\n",
        "\t# make one-step forecast\n",
        "\tX, y = test_scaled[i, 0:-1], test_scaled[i, -1]\n",
        "\tyhat = forecast_lstm(lstm_model, 1, X)\n",
        "\t# invert scaling\n",
        "\tyhat = invert_scale(scaler, X, yhat)\n",
        "\t# invert differencing\n",
        "\tyhat = inverse_difference(raw_values, yhat, len(test_scaled)+1-i)\n",
        "\t# store forecast\n",
        "\tpredictions.append(yhat)\n",
        "\texpected = raw_values[len(train) + i + 1]\n",
        "#  print('Month=%d, Predicted=%f, Expected=%f' % (i+1, yhat, expected))"
      ],
      "execution_count": null,
      "outputs": []
    },
    {
      "cell_type": "code",
      "metadata": {
        "id": "SoYKlfBiJxnc"
      },
      "source": [
        "\n",
        "# report performance\n",
        "rmse = sqrt(mean_squared_error(raw_values[(nrow+2):], predictions))\n",
        "print('Test RMSE: %.3f' % rmse)\n",
        "# line plot of observed vs predicted\n",
        "£pyplot.figure(figsize=(20,12))\n",
        "pyplot.plot(raw_values[(nrow+1):])\n",
        "pyplot.plot(predictions)\n",
        "pyplot.show()"
      ],
      "execution_count": null,
      "outputs": []
    },
    {
      "cell_type": "code",
      "metadata": {
        "id": "3gVG_WXB86TS"
      },
      "source": [
        "from sklearn.metrics import r2_score\n",
        "rscore = sqrt(r2_score(raw_values[(nrow+2):], predictions))\n",
        "print('Test R2: %.3f' % rscore)"
      ],
      "execution_count": null,
      "outputs": []
    },
    {
      "cell_type": "markdown",
      "metadata": {
        "id": "QT013z-TiM1a"
      },
      "source": [
        "### **GRU section**"
      ]
    },
    {
      "cell_type": "code",
      "metadata": {
        "id": "Cndp6CbxiAZe"
      },
      "source": [
        "# fit an LSTM network to training data\n",
        "def fit_gru(train, batch_size, nb_epoch, neurons):\n",
        "  X, y = train[:, 0:-1], train[:, -1]\n",
        "  X = X.reshape(X.shape[0], 1, X.shape[1])\n",
        "  \n",
        "  model = Sequential()\n",
        "  model.add(GRU(neurons, batch_input_shape=(batch_size, X.shape[1], X.shape[2]), stateful=True))\n",
        "  model.add(Dense(1))\n",
        "  model.compile(loss='mean_squared_error', optimizer='adam')\n",
        "\n",
        "  # simple early stopping\n",
        "  es = EarlyStopping(monitor='val_loss', mode='min', patience=10, verbose= 1)\n",
        "  mc = ModelCheckpoint('best_model.h5', monitor='val_loss', mode='min', verbose=1)\n",
        "  \n",
        "  model.fit(X, y, epochs=nb_epoch, batch_size=batch_size, verbose=1, shuffle=False, callbacks=[es, mc], validation_split=0.3)\n",
        "  saved_model = load_model('best_model.h5')\n",
        "  \n",
        "  return saved_model\n",
        "  \n",
        "# make a one-step forecast\n",
        "def forecast_gru(model, batch_size, X):\n",
        "\tX = X.reshape(1, 1, len(X))\n",
        "\tyhat = model.predict(X, batch_size=batch_size)\n",
        "\treturn yhat[0,0]"
      ],
      "execution_count": 6,
      "outputs": []
    },
    {
      "cell_type": "code",
      "metadata": {
        "id": "ai0OKaUDjagS"
      },
      "source": [
        "# load dataset\n",
        "cwd = read_csv('/content/drive/MyDrive/Ireland_DAV_Data.csv', low_memory=False)\n",
        "series = cwd['temp']"
      ],
      "execution_count": 7,
      "outputs": []
    },
    {
      "cell_type": "code",
      "metadata": {
        "id": "nqmqz3gSjUGC"
      },
      "source": [
        "# transform data to be stationary\n",
        "raw_values = series.values\n",
        "diff_values = difference(raw_values, 1)\n",
        "\n",
        "# transform data to be supervised learning\n",
        "supervised = timeseries_to_supervised(diff_values, 1)\n",
        "supervised_values = supervised.values\n",
        "\n",
        "# Split data into training (80%) and test (20%)\n",
        "nrow = round(0.7*series.shape[0])\n",
        "train, test = supervised_values[0:nrow], supervised_values[(nrow+1):]\n",
        "\n",
        "\n",
        "# transform the scale of the data\n",
        "scaler, train_scaled, test_scaled = scale(train, test)"
      ],
      "execution_count": 8,
      "outputs": []
    },
    {
      "cell_type": "code",
      "metadata": {
        "colab": {
          "base_uri": "https://localhost:8080/"
        },
        "id": "El4kvtJDiuTf",
        "outputId": "901304a9-fbd4-4990-9497-baa28be9b1fc"
      },
      "source": [
        "# fit the model\n",
        "gru_model = fit_gru(train_scaled, 1, 100, 6)\n",
        "# forecast the entire training dataset to build up state for forecasting\n",
        "train_reshaped = train_scaled[:, 0].reshape(len(train_scaled), 1, 1)\n",
        "gru_model.predict(train_reshaped, batch_size=1)\n"
      ],
      "execution_count": 9,
      "outputs": [
        {
          "output_type": "stream",
          "text": [
            "Epoch 1/100\n",
            "129560/129560 [==============================] - 257s 2ms/step - loss: 0.0099 - val_loss: 0.0124\n",
            "\n",
            "Epoch 00001: saving model to best_model.h5\n",
            "Epoch 2/100\n",
            "129560/129560 [==============================] - 273s 2ms/step - loss: 0.0096 - val_loss: 0.0979\n",
            "\n",
            "Epoch 00002: saving model to best_model.h5\n",
            "Epoch 3/100\n",
            "129560/129560 [==============================] - 279s 2ms/step - loss: 0.0102 - val_loss: 0.5485\n",
            "\n",
            "Epoch 00003: saving model to best_model.h5\n",
            "Epoch 4/100\n",
            "129560/129560 [==============================] - 241s 2ms/step - loss: 0.0117 - val_loss: 0.0868\n",
            "\n",
            "Epoch 00004: saving model to best_model.h5\n",
            "Epoch 5/100\n",
            "129560/129560 [==============================] - 235s 2ms/step - loss: 0.0103 - val_loss: 0.0131\n",
            "\n",
            "Epoch 00005: saving model to best_model.h5\n",
            "Epoch 6/100\n",
            "129560/129560 [==============================] - 283s 2ms/step - loss: 0.0103 - val_loss: 0.0131\n",
            "\n",
            "Epoch 00006: saving model to best_model.h5\n",
            "Epoch 7/100\n",
            "129560/129560 [==============================] - 279s 2ms/step - loss: 0.0103 - val_loss: 0.0131\n",
            "\n",
            "Epoch 00007: saving model to best_model.h5\n",
            "Epoch 8/100\n",
            "129560/129560 [==============================] - 269s 2ms/step - loss: 0.0103 - val_loss: 0.0131\n",
            "\n",
            "Epoch 00008: saving model to best_model.h5\n",
            "Epoch 9/100\n",
            "129560/129560 [==============================] - 277s 2ms/step - loss: 0.0103 - val_loss: 0.0132\n",
            "\n",
            "Epoch 00009: saving model to best_model.h5\n",
            "Epoch 10/100\n",
            "129560/129560 [==============================] - 233s 2ms/step - loss: 0.0103 - val_loss: 0.0132\n",
            "\n",
            "Epoch 00010: saving model to best_model.h5\n",
            "Epoch 11/100\n",
            "129560/129560 [==============================] - 279s 2ms/step - loss: 0.0102 - val_loss: 0.0132\n",
            "\n",
            "Epoch 00011: saving model to best_model.h5\n",
            "Epoch 00011: early stopping\n"
          ],
          "name": "stdout"
        },
        {
          "output_type": "execute_result",
          "data": {
            "text/plain": [
              "array([[0.6036047 ],\n",
              "       [1.2589816 ],\n",
              "       [1.3998802 ],\n",
              "       ...,\n",
              "       [0.02353883],\n",
              "       [0.02971619],\n",
              "       [0.01970559]], dtype=float32)"
            ]
          },
          "metadata": {
            "tags": []
          },
          "execution_count": 9
        }
      ]
    },
    {
      "cell_type": "code",
      "metadata": {
        "id": "v2s_7cNEi87_",
        "colab": {
          "base_uri": "https://localhost:8080/"
        },
        "outputId": "084ee3c3-495e-41f3-e842-eb38656712e2"
      },
      "source": [
        "# evaluate the model\n",
        "X, y = train_scaled[:, 0:-1], train_scaled[:, -1]\n",
        "trainX = X.reshape(X.shape[0], 1, X.shape[1])\n",
        "trainy = y \n",
        "\n",
        "train_pred = gru_model.predict(trainX, batch_size=1)\n",
        "train_mse = mean_squared_error(trainy, train_pred)\n",
        "\n",
        "X, y = test_scaled[:, 0:-1], test_scaled[:, -1]\n",
        "testX = X.reshape(X.shape[0], 1, X.shape[1])\n",
        "testy = y\n",
        "\n",
        "test_pred = gru_model.predict(testX, batch_size=1)\n",
        "test_mse = mean_squared_error(testy, test_pred)\n",
        "\n",
        "print('Train: %.3f, Test: %.3f' % (train_mse, test_mse))"
      ],
      "execution_count": 10,
      "outputs": [
        {
          "output_type": "stream",
          "text": [
            "Train: 0.012, Test: 0.013\n"
          ],
          "name": "stdout"
        }
      ]
    },
    {
      "cell_type": "code",
      "metadata": {
        "id": "UMXEaGNDi96f"
      },
      "source": [
        "# walk-forward validation on the test data\n",
        "predictions = list()\n",
        "for i in range(len(test_scaled)):\n",
        "\t# make one-step forecast\n",
        "\tX, y = test_scaled[i, 0:-1], test_scaled[i, -1]\n",
        "\tyhat = forecast_gru(gru_model, 1, X)\n",
        "\t# invert scaling\n",
        "\tyhat = invert_scale(scaler, X, yhat)\n",
        "\t# invert differencing\n",
        "\tyhat = inverse_difference(raw_values, yhat, len(test_scaled)+1-i)\n",
        "\t# store forecast\n",
        "\tpredictions.append(yhat)\n",
        "\texpected = raw_values[len(train) + i + 1]\n",
        "#  print('Month=%d, Predicted=%f, Expected=%f' % (i+1, yhat, expected))"
      ],
      "execution_count": 11,
      "outputs": []
    },
    {
      "cell_type": "code",
      "metadata": {
        "id": "S060aVFOjJ5x",
        "colab": {
          "base_uri": "https://localhost:8080/",
          "height": 537
        },
        "outputId": "13d504b4-0020-44a8-da35-7d9865609d07"
      },
      "source": [
        "# report performance\n",
        "rmse = sqrt(mean_squared_error(raw_values[(nrow+2):], predictions))\n",
        "print('Test RMSE: %.3f' % rmse)\n",
        "# line plot of observed vs predicted\n",
        "pyplot.figure(figsize=(20,12))\n",
        "pyplot.plot(raw_values[(nrow+1):])\n",
        "pyplot.plot(predictions)\n",
        "pyplot.show()"
      ],
      "execution_count": 12,
      "outputs": [
        {
          "output_type": "stream",
          "text": [
            "Test RMSE: 0.863\n"
          ],
          "name": "stdout"
        },
        {
          "output_type": "display_data",
          "data": {
            "image/png": "[encoded data removed]",
            "text/plain": [
              "<Figure size 1440x864 with 1 Axes>"
            ]
          },
          "metadata": {
            "tags": [],
            "needs_background": "light"
          }
        }
      ]
    },
    {
      "cell_type": "code",
      "metadata": {
        "id": "ogaM3FP7-wOj",
        "colab": {
          "base_uri": "https://localhost:8080/"
        },
        "outputId": "0d0f7602-c3d3-41f7-80cf-df8042020dd9"
      },
      "source": [
        "from sklearn.metrics import r2_score\n",
        "rscore = sqrt(r2_score(raw_values[(nrow+2):], predictions))\n",
        "print('Test R2: %.3f' % rscore)"
      ],
      "execution_count": 13,
      "outputs": [
        {
          "output_type": "stream",
          "text": [
            "Test R2: 0.985\n"
          ],
          "name": "stdout"
        }
      ]
    }
  ]
}